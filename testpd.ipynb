{
 "cells": [
  {
   "cell_type": "code",
   "execution_count": 2,
   "metadata": {},
   "outputs": [
    {
     "name": "stdout",
     "output_type": "stream",
     "text": [
      "  Date(DD/MM/YYYY) Region    Shop Name      Shop ID Terminal  Channel Name  \\\n",
      "0              All    All          All          NaN      All           All   \n",
      "1       24/10/2024     PH  Instant Pot  250384378.0      all  Facebook Ads   \n",
      "2       21/10/2024     PH  Instant Pot  250384378.0      all     Instagram   \n",
      "\n",
      "               Campaign Description  \\\n",
      "0                               All   \n",
      "1  ipph-2024-sep-trf-afobackinstock   \n",
      "2                  linktreealwayson   \n",
      "\n",
      "                          Campaign Info In Parameter  \\\n",
      "0                                                All   \n",
      "1  s250384378_ss_ph_fb02_ipph-2024-sep-trf-afobac...   \n",
      "2             s250384378_ss_ph_igbp_linktreealwayson   \n",
      "\n",
      "                              Ad Content  Visits  ...  Buyers  Orders  \\\n",
      "0                                    All       4  ...       0       0   \n",
      "1  demog-consumermuse-fbn-lnk-5s-afo-shp       1  ...       0       0   \n",
      "2                      linktree-alwayson       3  ...       0       0   \n",
      "\n",
      "   Sales(USD)  Sales(Local currency)  Item Conversion Rate  Unique Visitors  \\\n",
      "0           0                      0                     0                4   \n",
      "1           0                      0                     0                1   \n",
      "2           0                      0                     0                3   \n",
      "\n",
      "   New Buyers  Add To Cart Value(USD)  Add To Cart Value(Local currency)  \\\n",
      "0           0                       0                                  0   \n",
      "1           0                       0                                  0   \n",
      "2           0                       0                                  0   \n",
      "\n",
      "   Units Sold  \n",
      "0           0  \n",
      "1           0  \n",
      "2           0  \n",
      "\n",
      "[3 rows x 21 columns]\n"
     ]
    },
    {
     "name": "stderr",
     "output_type": "stream",
     "text": [
      "/Users/arlan.abante/code/venv/lib/python3.9/site-packages/openpyxl/styles/stylesheet.py:226: UserWarning: Workbook contains no default style, apply openpyxl's default\n",
      "  warn(\"Workbook contains no default style, apply openpyxl's default\")\n"
     ]
    }
   ],
   "source": [
    "import pandas as pd\n",
    "\n",
    "file_path = 'Instant Pot Campaign Performance Report Oct 27 2024.xlsx'\n",
    "\n",
    "df = pd.read_excel(file_path, sheet_name='Details Sheet', engine='openpyxl')\n",
    "print(df)\n",
    "\n",
    "# index = df[df['Metrics/Terms'] == 'Principal name'].index[0]\n",
    "# value = df.iloc[index, 1]\n",
    "\n",
    "# print(f'index: {index}, value: {value}')"
   ]
  },
  {
   "cell_type": "code",
   "execution_count": 3,
   "metadata": {},
   "outputs": [],
   "source": [
    "df.to_parquet('test.parquet')"
   ]
  },
  {
   "cell_type": "code",
   "execution_count": null,
   "metadata": {},
   "outputs": [],
   "source": [
    "parquet_file = 'test.parquet'\n",
    "df_parquet = pd.read_parquet(parquet_file)\n",
    "print(df_parquet)\n"
   ]
  },
  {
   "cell_type": "code",
   "execution_count": 1,
   "metadata": {},
   "outputs": [
    {
     "name": "stderr",
     "output_type": "stream",
     "text": [
      "/Users/arlan.abante/code/venv/lib/python3.9/site-packages/urllib3/__init__.py:34: NotOpenSSLWarning: urllib3 v2 only supports OpenSSL 1.1.1+, currently the 'ssl' module is compiled with 'LibreSSL 2.8.3'. See: https://github.com/urllib3/urllib3/issues/3020\n",
      "  warnings.warn(\n"
     ]
    },
    {
     "ename": "KeyError",
     "evalue": "'TARGET_NAME'",
     "output_type": "error",
     "traceback": [
      "\u001b[0;31m---------------------------------------------------------------------------\u001b[0m",
      "\u001b[0;31mKeyError\u001b[0m                                  Traceback (most recent call last)",
      "Cell \u001b[0;32mIn[1], line 9\u001b[0m\n\u001b[1;32m      6\u001b[0m \u001b[38;5;28;01mimport\u001b[39;00m \u001b[38;5;21;01mos\u001b[39;00m\n\u001b[1;32m      7\u001b[0m \u001b[38;5;28;01mimport\u001b[39;00m \u001b[38;5;21;01mtime\u001b[39;00m\n\u001b[0;32m----> 9\u001b[0m name \u001b[38;5;241m=\u001b[39m \u001b[43mos\u001b[49m\u001b[38;5;241;43m.\u001b[39;49m\u001b[43menviron\u001b[49m\u001b[43m[\u001b[49m\u001b[38;5;124;43m\"\u001b[39;49m\u001b[38;5;124;43mTARGET_NAME\u001b[39;49m\u001b[38;5;124;43m\"\u001b[39;49m\u001b[43m]\u001b[49m\n\u001b[1;32m     10\u001b[0m service_account_file \u001b[38;5;241m=\u001b[39m os\u001b[38;5;241m.\u001b[39menviron[\u001b[38;5;124m\"\u001b[39m\u001b[38;5;124mSERVICE_ACCOUNT_FILE\u001b[39m\u001b[38;5;124m\"\u001b[39m]\n\u001b[1;32m     11\u001b[0m \u001b[38;5;28mprint\u001b[39m(\u001b[38;5;124mf\u001b[39m\u001b[38;5;124m'\u001b[39m\u001b[38;5;124mname: \u001b[39m\u001b[38;5;132;01m{\u001b[39;00mname\u001b[38;5;132;01m}\u001b[39;00m\u001b[38;5;124m, service_account_file: \u001b[39m\u001b[38;5;132;01m{\u001b[39;00mservice_account_file\u001b[38;5;132;01m}\u001b[39;00m\u001b[38;5;124m'\u001b[39m)\n",
      "File \u001b[0;32m/Library/Developer/CommandLineTools/Library/Frameworks/Python3.framework/Versions/3.9/lib/python3.9/os.py:679\u001b[0m, in \u001b[0;36m_Environ.__getitem__\u001b[0;34m(self, key)\u001b[0m\n\u001b[1;32m    676\u001b[0m     value \u001b[38;5;241m=\u001b[39m \u001b[38;5;28mself\u001b[39m\u001b[38;5;241m.\u001b[39m_data[\u001b[38;5;28mself\u001b[39m\u001b[38;5;241m.\u001b[39mencodekey(key)]\n\u001b[1;32m    677\u001b[0m \u001b[38;5;28;01mexcept\u001b[39;00m \u001b[38;5;167;01mKeyError\u001b[39;00m:\n\u001b[1;32m    678\u001b[0m     \u001b[38;5;66;03m# raise KeyError with the original key value\u001b[39;00m\n\u001b[0;32m--> 679\u001b[0m     \u001b[38;5;28;01mraise\u001b[39;00m \u001b[38;5;167;01mKeyError\u001b[39;00m(key) \u001b[38;5;28;01mfrom\u001b[39;00m \u001b[38;5;28;01mNone\u001b[39;00m\n\u001b[1;32m    680\u001b[0m \u001b[38;5;28;01mreturn\u001b[39;00m \u001b[38;5;28mself\u001b[39m\u001b[38;5;241m.\u001b[39mdecodevalue(value)\n",
      "\u001b[0;31mKeyError\u001b[0m: 'TARGET_NAME'"
     ]
    }
   ],
   "source": [
    "from utils.targets.bq_utils import TargetGoogleCloudStorage\n",
    "from datetime import datetime\n",
    "import pandas as pd\n",
    "import numpy as np\n",
    "import fastparquet as fp\n",
    "import os\n",
    "import time\n",
    "\n",
    "name = os.environ[\"TARGET_NAME\"]\n",
    "service_account_file = os.environ[\"SERVICE_ACCOUNT_FILE\"]\n",
    "print(f'name: {name}, service_account_file: {service_account_file}')\n",
    "\n",
    "test_target = TargetGoogleCloudStorage(\n",
    "    name=os.environ[\"TARGET_NAME\"],\n",
    "    service_account_file=os.environ[\"SERVICE_ACCOUNT_FILE\"]\n",
    ")\n",
    "\n",
    "test_target.authenticate()"
   ]
  },
  {
   "cell_type": "code",
   "execution_count": null,
   "metadata": {},
   "outputs": [],
   "source": []
  },
  {
   "cell_type": "code",
   "execution_count": null,
   "metadata": {},
   "outputs": [],
   "source": []
  }
 ],
 "metadata": {
  "kernelspec": {
   "display_name": "venv",
   "language": "python",
   "name": "python3"
  },
  "language_info": {
   "codemirror_mode": {
    "name": "ipython",
    "version": 3
   },
   "file_extension": ".py",
   "mimetype": "text/x-python",
   "name": "python",
   "nbconvert_exporter": "python",
   "pygments_lexer": "ipython3",
   "version": "3.9.6"
  }
 },
 "nbformat": 4,
 "nbformat_minor": 2
}
