{
 "cells": [
  {
   "cell_type": "code",
   "execution_count": 1,
   "metadata": {},
   "outputs": [],
   "source": [
    "import time\n",
    "import pyautogui as pg"
   ]
  },
  {
   "cell_type": "code",
   "execution_count": 25,
   "metadata": {},
   "outputs": [],
   "source": [
    "pg.hotkey('alt','tab')\n",
    "# pg.moveTo(200,80) #search bar\n",
    "time.sleep(2)\n",
    "pg.hotkey('ctrl', 'l')\n",
    "time.sleep(3)\n",
    "pg.moveTo(900,470) #login textbox\n",
    "pg.click()\n",
    "time.sleep(2)\n",
    "pg.moveTo(900,560) #password textbox\n",
    "pg.click()\n",
    "time.sleep(2)"
   ]
  },
  {
   "cell_type": "code",
   "execution_count": 27,
   "metadata": {},
   "outputs": [],
   "source": [
    "pg.hotkey('alt','tab')\n",
    "time.sleep(5)\n",
    "\n",
    "pg.hotkey(\"ctrl\", 'l')\n",
    "time.sleep(3)\n",
    "pg.write(f\"https://app.respond.io/user/login\")\n",
    "time.sleep(2)\n",
    "pg.press(\"enter\")"
   ]
  },
  {
   "cell_type": "code",
   "execution_count": 33,
   "metadata": {},
   "outputs": [],
   "source": [
    "# export button\n",
    "\n",
    "pg.hotkey('alt','tab')\n",
    "time.sleep(2)\n",
    "pg.moveTo(350,350)\n",
    "time.sleep(3)"
   ]
  },
  {
   "cell_type": "code",
   "execution_count": 44,
   "metadata": {},
   "outputs": [],
   "source": [
    "# download button\n",
    "time.sleep(2)\n",
    "pg.hotkey('alt','tab')\n",
    "time.sleep(2)\n",
    "pg.moveTo(1550,500)\n",
    "time.sleep(5)"
   ]
  },
  {
   "cell_type": "code",
   "execution_count": null,
   "metadata": {},
   "outputs": [],
   "source": [
    "#sign out button\n",
    "time.sleep(2)\n",
    "pg.hotkey('alt','tab')\n",
    "time.sleep(1)\n",
    "pg.moveTo(30,800)\n",
    "pg.click()\n",
    "time.sleep(2)\n",
    "pg.moveTo(100,770)"
   ]
  },
  {
   "cell_type": "code",
   "execution_count": null,
   "metadata": {},
   "outputs": [],
   "source": []
  },
  {
   "cell_type": "code",
   "execution_count": null,
   "metadata": {},
   "outputs": [],
   "source": []
  },
  {
   "cell_type": "code",
   "execution_count": 36,
   "metadata": {},
   "outputs": [
    {
     "data": {
      "text/plain": [
       "True"
      ]
     },
     "execution_count": 36,
     "metadata": {},
     "output_type": "execute_result"
    }
   ],
   "source": [
    "import logging\n",
    "import time\n",
    "import pyautogui as pg\n",
    "import imaplib\n",
    "import email\n",
    "import yaml\n",
    "from email.header import decode_header\n",
    "from datetime import datetime, timedelta, timezone\n",
    "\n",
    "def load_creds(file_path):\n",
    "    \"\"\"Load credentials from YAML file\"\"\"\n",
    "    try:\n",
    "        with open(file_path, 'r') as file:\n",
    "            creds = yaml.safe_load(file)\n",
    "            logging.info(\"Successfully loaded credentials from YAML\")\n",
    "            return (\n",
    "                creds.get('user'),\n",
    "                creds.get('app-password')  # Using app-password instead of regular password\n",
    "            )\n",
    "    except Exception as e:\n",
    "        logging.error(f\"Error loading credentials: {str(e)}\", exc_info=True)\n",
    "        raise\n",
    "\n",
    "def check_for_export_email(creds_file, timeout_minutes=15):\n",
    "    \"\"\"\n",
    "    Check Gmail for export completion email using credentials from YAML\n",
    "    \"\"\"\n",
    "    logging.info(\"Starting to check for export completion email\")\n",
    "    \n",
    "    try:\n",
    "        # Load credentials\n",
    "        email_address, app_password = load_creds(creds_file)\n",
    "        \n",
    "        # Connect to Gmail IMAP\n",
    "        mail = imaplib.IMAP4_SSL(\"imap.gmail.com\")\n",
    "        mail.login(email_address, app_password)\n",
    "        logging.info(\"Successfully connected to Gmail\")\n",
    "        \n",
    "        # Use timezone-aware datetime for start_time\n",
    "        start_time = datetime.now(timezone.utc)\n",
    "        while datetime.now(timezone.utc) - start_time < timedelta(minutes=timeout_minutes):\n",
    "            # Select inbox\n",
    "            mail.select(\"INBOX\")\n",
    "            \n",
    "            # Search for emails with specific subject\n",
    "            search_query = 'SUBJECT \"Data export request completed for Customer Success | respond.io\"'\n",
    "            _, message_numbers = mail.search(None, search_query)\n",
    "            \n",
    "            if message_numbers[0]:\n",
    "                # Get the latest email's date\n",
    "                latest_email_id = message_numbers[0].split()[-1]\n",
    "                _, msg_data = mail.fetch(latest_email_id, \"(RFC822)\")\n",
    "                email_body = msg_data[0][1]\n",
    "                message = email.message_from_bytes(email_body)\n",
    "                date_str = message[\"date\"]\n",
    "                date = email.utils.parsedate_to_datetime(date_str)  # This returns timezone-aware datetime\n",
    "                \n",
    "                # Now both datetimes are timezone-aware\n",
    "                if datetime.now(timezone.utc) - date < timedelta(minutes=15):\n",
    "                    logging.info(\"Export completion email found\")\n",
    "                    mail.logout()\n",
    "                    return True\n",
    "            \n",
    "            # Wait before checking again\n",
    "            logging.info(\"Export email not found yet, waiting 30 seconds...\")\n",
    "            time.sleep(30)\n",
    "        \n",
    "        logging.warning(f\"Email not found within {timeout_minutes} minutes timeout\")\n",
    "        mail.logout()\n",
    "        return False\n",
    "        \n",
    "    except Exception as e:\n",
    "        logging.error(f\"Error checking email: {str(e)}\", exc_info=True)\n",
    "        return False\n",
    "    \n",
    "check_for_export_email('credentials.yaml')"
   ]
  },
  {
   "cell_type": "code",
   "execution_count": null,
   "metadata": {},
   "outputs": [],
   "source": []
  }
 ],
 "metadata": {
  "kernelspec": {
   "display_name": "venv",
   "language": "python",
   "name": "python3"
  },
  "language_info": {
   "codemirror_mode": {
    "name": "ipython",
    "version": 3
   },
   "file_extension": ".py",
   "mimetype": "text/x-python",
   "name": "python",
   "nbconvert_exporter": "python",
   "pygments_lexer": "ipython3",
   "version": "3.11.2"
  }
 },
 "nbformat": 4,
 "nbformat_minor": 2
}
